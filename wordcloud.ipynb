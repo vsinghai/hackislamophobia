{
 "metadata": {
  "language_info": {
   "codemirror_mode": {
    "name": "ipython",
    "version": 3
   },
   "file_extension": ".py",
   "mimetype": "text/x-python",
   "name": "python",
   "nbconvert_exporter": "python",
   "pygments_lexer": "ipython3",
   "version": "3.7.3"
  },
  "orig_nbformat": 2,
  "kernelspec": {
   "name": "python3",
   "display_name": "Python 3.7.3 64-bit",
   "metadata": {
    "interpreter": {
     "hash": "275adeef5192827bec28ec2c03d5c1beec733abdf195d8bb5b4b13cb7a00ec91"
    }
   }
  }
 },
 "nbformat": 4,
 "nbformat_minor": 2,
 "cells": [
  {
   "cell_type": "code",
   "execution_count": 1,
   "metadata": {},
   "outputs": [
    {
     "output_type": "stream",
     "name": "stderr",
     "text": [
      "[nltk_data] Downloading package stopwords to\n[nltk_data]     C:\\Users\\asher\\AppData\\Roaming\\nltk_data...\n[nltk_data]   Package stopwords is already up-to-date!\n"
     ]
    },
    {
     "output_type": "execute_result",
     "data": {
      "text/plain": [
       "True"
      ]
     },
     "metadata": {},
     "execution_count": 1
    }
   ],
   "source": [
    "import pandas as pd\n",
    "from wordcloud import WordCloud\n",
    "\n",
    "import nltk\n",
    "from nltk.corpus import stopwords\n",
    "nltk.download('stopwords')"
   ]
  },
  {
   "cell_type": "code",
   "execution_count": 2,
   "metadata": {},
   "outputs": [
    {
     "output_type": "execute_result",
     "data": {
      "text/plain": [
       "                                  _id  contributors coordinates  \\\n",
       "0  ObjectId(59dbede4e6e465a2d67a1062)           NaN         NaN   \n",
       "1  ObjectId(59dbede4e6e465a2d67a106c)           NaN         NaN   \n",
       "2  ObjectId(59dbf266e6e465a2d67a4810)           NaN         NaN   \n",
       "3  ObjectId(59dbf266e6e465a2d67a4828)           NaN         NaN   \n",
       "4  ObjectId(59e8e630e6e465a2d6238c9c)           NaN         NaN   \n",
       "\n",
       "                       created_at  \\\n",
       "0  Sun Oct 22 10:34:06 +0000 2017   \n",
       "1  Sun Oct 22 10:13:40 +0000 2017   \n",
       "2  Sun Oct 22 07:50:47 +0000 2017   \n",
       "3  Sun Oct 22 10:38:23 +0000 2017   \n",
       "4  Sun Oct 22 08:59:53 +0000 2017   \n",
       "\n",
       "                                            entities extended_entities  \\\n",
       "0  {\"hashtags\":[{\"text\":\"BanIslam\",\"indices\":[93,...               NaN   \n",
       "1  {\"hashtags\":[{\"text\":\"muslim\",\"indices\":[16,23...               NaN   \n",
       "2  {\"hashtags\":[{\"text\":\"Raqqa\",\"indices\":[37,43]...               NaN   \n",
       "3  {\"hashtags\":[],\"symbols\":[],\"user_mentions\":[{...               NaN   \n",
       "4  {\"hashtags\":[{\"text\":\"RT\",\"indices\":[51,54]},{...               NaN   \n",
       "\n",
       "   favorite_count  favorited  geo            id  ...  quoted_status_id_str  \\\n",
       "0               0      False  NaN  9.220484e+17  ...                   NaN   \n",
       "1               0      False  NaN  9.220433e+17  ...                   NaN   \n",
       "2               0      False  NaN  9.220073e+17  ...                   NaN   \n",
       "3               0      False  NaN  9.220495e+17  ...                   NaN   \n",
       "4               0      False  NaN  9.220247e+17  ...                   NaN   \n",
       "\n",
       "  retweet_count  retweeted                                   retweeted_status  \\\n",
       "0             4      False  {\"created_at\":\"Fri Oct 20 09:33:45 +0000 2017\"...   \n",
       "1            10      False  {\"created_at\":\"Sat Oct 21 18:37:07 +0000 2017\"...   \n",
       "2           172      False  {\"created_at\":\"Fri Oct 20 23:15:45 +0000 2017\"...   \n",
       "3             1      False                                                NaN   \n",
       "4            25      False  {\"created_at\":\"Sun Oct 22 01:40:55 +0000 2017\"...   \n",
       "\n",
       "                                              source  \\\n",
       "0  <a href=\"http://twitter.com/download/iphone\" r...   \n",
       "1  <a href=\"http://twitter.com/download/android\" ...   \n",
       "2  <a href=\"http://twitter.com/download/android\" ...   \n",
       "3  <a href=\"http://twitter.com\" rel=\"nofollow\">Tw...   \n",
       "4  <a href=\"http://twitter.com/download/android\" ...   \n",
       "\n",
       "                                                text  full_text truncated  \\\n",
       "0  RT @Private34349909: @AmyMek @Dab7One 1/ @real...        NaN     False   \n",
       "1  RT @ensine: All #muslim rulers were savages bc...        NaN     False   \n",
       "2  RT @SLandinSoCal: Liberated Women of #Raqqa‼️R...        NaN     False   \n",
       "3  @Stormtroepen @cdavandaag @sybrandbuma @gertja...        NaN      True   \n",
       "4  RT @PoliticalIslam: Sharia at odds with Articl...        NaN     False   \n",
       "\n",
       "                                                user withheld_in_countries  \n",
       "0  {\"id\":8.009259051368776e+17,\"id_str\":\"80092590...                   NaN  \n",
       "1  {\"id\":375089876,\"id_str\":\"375089876\",\"name\":\"द...                   NaN  \n",
       "2  {\"id\":7.092975641898926e+17,\"id_str\":\"70929756...                   NaN  \n",
       "3  {\"id\":1340408646,\"id_str\":\"1340408646\",\"name\":...                   NaN  \n",
       "4  {\"id\":150595824,\"id_str\":\"150595824\",\"name\":\"🇮...                [\"DE\"]  \n",
       "\n",
       "[5 rows x 33 columns]"
      ],
      "text/html": "<div>\n<style scoped>\n    .dataframe tbody tr th:only-of-type {\n        vertical-align: middle;\n    }\n\n    .dataframe tbody tr th {\n        vertical-align: top;\n    }\n\n    .dataframe thead th {\n        text-align: right;\n    }\n</style>\n<table border=\"1\" class=\"dataframe\">\n  <thead>\n    <tr style=\"text-align: right;\">\n      <th></th>\n      <th>_id</th>\n      <th>contributors</th>\n      <th>coordinates</th>\n      <th>created_at</th>\n      <th>entities</th>\n      <th>extended_entities</th>\n      <th>favorite_count</th>\n      <th>favorited</th>\n      <th>geo</th>\n      <th>id</th>\n      <th>...</th>\n      <th>quoted_status_id_str</th>\n      <th>retweet_count</th>\n      <th>retweeted</th>\n      <th>retweeted_status</th>\n      <th>source</th>\n      <th>text</th>\n      <th>full_text</th>\n      <th>truncated</th>\n      <th>user</th>\n      <th>withheld_in_countries</th>\n    </tr>\n  </thead>\n  <tbody>\n    <tr>\n      <th>0</th>\n      <td>ObjectId(59dbede4e6e465a2d67a1062)</td>\n      <td>NaN</td>\n      <td>NaN</td>\n      <td>Sun Oct 22 10:34:06 +0000 2017</td>\n      <td>{\"hashtags\":[{\"text\":\"BanIslam\",\"indices\":[93,...</td>\n      <td>NaN</td>\n      <td>0</td>\n      <td>False</td>\n      <td>NaN</td>\n      <td>9.220484e+17</td>\n      <td>...</td>\n      <td>NaN</td>\n      <td>4</td>\n      <td>False</td>\n      <td>{\"created_at\":\"Fri Oct 20 09:33:45 +0000 2017\"...</td>\n      <td>&lt;a href=\"http://twitter.com/download/iphone\" r...</td>\n      <td>RT @Private34349909: @AmyMek @Dab7One 1/ @real...</td>\n      <td>NaN</td>\n      <td>False</td>\n      <td>{\"id\":8.009259051368776e+17,\"id_str\":\"80092590...</td>\n      <td>NaN</td>\n    </tr>\n    <tr>\n      <th>1</th>\n      <td>ObjectId(59dbede4e6e465a2d67a106c)</td>\n      <td>NaN</td>\n      <td>NaN</td>\n      <td>Sun Oct 22 10:13:40 +0000 2017</td>\n      <td>{\"hashtags\":[{\"text\":\"muslim\",\"indices\":[16,23...</td>\n      <td>NaN</td>\n      <td>0</td>\n      <td>False</td>\n      <td>NaN</td>\n      <td>9.220433e+17</td>\n      <td>...</td>\n      <td>NaN</td>\n      <td>10</td>\n      <td>False</td>\n      <td>{\"created_at\":\"Sat Oct 21 18:37:07 +0000 2017\"...</td>\n      <td>&lt;a href=\"http://twitter.com/download/android\" ...</td>\n      <td>RT @ensine: All #muslim rulers were savages bc...</td>\n      <td>NaN</td>\n      <td>False</td>\n      <td>{\"id\":375089876,\"id_str\":\"375089876\",\"name\":\"द...</td>\n      <td>NaN</td>\n    </tr>\n    <tr>\n      <th>2</th>\n      <td>ObjectId(59dbf266e6e465a2d67a4810)</td>\n      <td>NaN</td>\n      <td>NaN</td>\n      <td>Sun Oct 22 07:50:47 +0000 2017</td>\n      <td>{\"hashtags\":[{\"text\":\"Raqqa\",\"indices\":[37,43]...</td>\n      <td>NaN</td>\n      <td>0</td>\n      <td>False</td>\n      <td>NaN</td>\n      <td>9.220073e+17</td>\n      <td>...</td>\n      <td>NaN</td>\n      <td>172</td>\n      <td>False</td>\n      <td>{\"created_at\":\"Fri Oct 20 23:15:45 +0000 2017\"...</td>\n      <td>&lt;a href=\"http://twitter.com/download/android\" ...</td>\n      <td>RT @SLandinSoCal: Liberated Women of #Raqqa‼️R...</td>\n      <td>NaN</td>\n      <td>False</td>\n      <td>{\"id\":7.092975641898926e+17,\"id_str\":\"70929756...</td>\n      <td>NaN</td>\n    </tr>\n    <tr>\n      <th>3</th>\n      <td>ObjectId(59dbf266e6e465a2d67a4828)</td>\n      <td>NaN</td>\n      <td>NaN</td>\n      <td>Sun Oct 22 10:38:23 +0000 2017</td>\n      <td>{\"hashtags\":[],\"symbols\":[],\"user_mentions\":[{...</td>\n      <td>NaN</td>\n      <td>0</td>\n      <td>False</td>\n      <td>NaN</td>\n      <td>9.220495e+17</td>\n      <td>...</td>\n      <td>NaN</td>\n      <td>1</td>\n      <td>False</td>\n      <td>NaN</td>\n      <td>&lt;a href=\"http://twitter.com\" rel=\"nofollow\"&gt;Tw...</td>\n      <td>@Stormtroepen @cdavandaag @sybrandbuma @gertja...</td>\n      <td>NaN</td>\n      <td>True</td>\n      <td>{\"id\":1340408646,\"id_str\":\"1340408646\",\"name\":...</td>\n      <td>NaN</td>\n    </tr>\n    <tr>\n      <th>4</th>\n      <td>ObjectId(59e8e630e6e465a2d6238c9c)</td>\n      <td>NaN</td>\n      <td>NaN</td>\n      <td>Sun Oct 22 08:59:53 +0000 2017</td>\n      <td>{\"hashtags\":[{\"text\":\"RT\",\"indices\":[51,54]},{...</td>\n      <td>NaN</td>\n      <td>0</td>\n      <td>False</td>\n      <td>NaN</td>\n      <td>9.220247e+17</td>\n      <td>...</td>\n      <td>NaN</td>\n      <td>25</td>\n      <td>False</td>\n      <td>{\"created_at\":\"Sun Oct 22 01:40:55 +0000 2017\"...</td>\n      <td>&lt;a href=\"http://twitter.com/download/android\" ...</td>\n      <td>RT @PoliticalIslam: Sharia at odds with Articl...</td>\n      <td>NaN</td>\n      <td>False</td>\n      <td>{\"id\":150595824,\"id_str\":\"150595824\",\"name\":\"🇮...</td>\n      <td>[\"DE\"]</td>\n    </tr>\n  </tbody>\n</table>\n<p>5 rows × 33 columns</p>\n</div>"
     },
     "metadata": {},
     "execution_count": 2
    }
   ],
   "source": [
    "df_50k = pd.read_csv('./noislamophobia-dataset-50k.csv')\n",
    "df_75k = pd.read_csv('./noislamophobia-dataset-75k.csv')\n",
    "df = pd.concat([df_50k,df_75k])\n",
    "df.head()"
   ]
  },
  {
   "cell_type": "code",
   "execution_count": 3,
   "metadata": {},
   "outputs": [
    {
     "output_type": "execute_result",
     "data": {
      "text/plain": [
       "0                         1/ PLEASE They NOT meet…\n",
       "1             All rulers savages bcoz even profeet\n",
       "2        Liberated Women spitting oppresses women!\n",
       "3    Yep. Het staat er zwart op wit. En het toege…\n",
       "4                           Sharia odds Article 6.\n",
       "Name: text, dtype: object"
      ]
     },
     "metadata": {},
     "execution_count": 3
    }
   ],
   "source": [
    "filter_list = ['@', '#', 'http', 'rt', '&', 'islam', 'muslim', 'religion', 'don', 'need', 'know']\n",
    "stops = set(stopwords.words('english'))\n",
    "\n",
    "def good_wd(wd):\n",
    "    return not any(wd.lower().startswith(x) for x in filter_list) and wd not in stops\n",
    "\n",
    "tweets = df.text.dropna().str.split().apply(lambda lst: ' '.join(filter(good_wd, lst)))\n",
    "tweets.head()"
   ]
  },
  {
   "cell_type": "code",
   "execution_count": 4,
   "metadata": {},
   "outputs": [],
   "source": [
    "wordcloud = WordCloud().generate(' '.join(tweets))\n",
    "image = wordcloud.to_image()\n",
    "image.save('wordcloud.png')"
   ]
  }
 ]
}