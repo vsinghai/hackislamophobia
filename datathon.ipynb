{
 "cells": [
  {
   "cell_type": "code",
   "execution_count": 28,
   "metadata": {},
   "outputs": [],
   "source": [
    "import pandas as pd\n",
    "import statsmodels as sm\n",
    "import matplotlib\n",
    "import json"
   ]
  },
  {
   "cell_type": "code",
   "execution_count": 4,
   "metadata": {},
   "outputs": [],
   "source": [
    "df = pd.read_csv(\"noislamophobia-dataset-50k.csv\",low_memory=False)"
   ]
  },
  {
   "cell_type": "code",
   "execution_count": 5,
   "metadata": {},
   "outputs": [
    {
     "data": {
      "text/html": [
       "<div>\n",
       "<style scoped>\n",
       "    .dataframe tbody tr th:only-of-type {\n",
       "        vertical-align: middle;\n",
       "    }\n",
       "\n",
       "    .dataframe tbody tr th {\n",
       "        vertical-align: top;\n",
       "    }\n",
       "\n",
       "    .dataframe thead th {\n",
       "        text-align: right;\n",
       "    }\n",
       "</style>\n",
       "<table border=\"1\" class=\"dataframe\">\n",
       "  <thead>\n",
       "    <tr style=\"text-align: right;\">\n",
       "      <th></th>\n",
       "      <th>_id</th>\n",
       "      <th>contributors</th>\n",
       "      <th>coordinates</th>\n",
       "      <th>created_at</th>\n",
       "      <th>entities</th>\n",
       "      <th>extended_entities</th>\n",
       "      <th>favorite_count</th>\n",
       "      <th>favorited</th>\n",
       "      <th>geo</th>\n",
       "      <th>id</th>\n",
       "      <th>...</th>\n",
       "      <th>quoted_status_id_str</th>\n",
       "      <th>retweet_count</th>\n",
       "      <th>retweeted</th>\n",
       "      <th>retweeted_status</th>\n",
       "      <th>source</th>\n",
       "      <th>text</th>\n",
       "      <th>full_text</th>\n",
       "      <th>truncated</th>\n",
       "      <th>user</th>\n",
       "      <th>withheld_in_countries</th>\n",
       "    </tr>\n",
       "  </thead>\n",
       "  <tbody>\n",
       "    <tr>\n",
       "      <td>0</td>\n",
       "      <td>ObjectId(59dbede4e6e465a2d67a1062)</td>\n",
       "      <td>NaN</td>\n",
       "      <td>NaN</td>\n",
       "      <td>Sun Oct 22 10:34:06 +0000 2017</td>\n",
       "      <td>{\"hashtags\":[{\"text\":\"BanIslam\",\"indices\":[93,...</td>\n",
       "      <td>NaN</td>\n",
       "      <td>0</td>\n",
       "      <td>False</td>\n",
       "      <td>NaN</td>\n",
       "      <td>9.220484e+17</td>\n",
       "      <td>...</td>\n",
       "      <td>NaN</td>\n",
       "      <td>4</td>\n",
       "      <td>False</td>\n",
       "      <td>{\"created_at\":\"Fri Oct 20 09:33:45 +0000 2017\"...</td>\n",
       "      <td>&lt;a href=\"http://twitter.com/download/iphone\" r...</td>\n",
       "      <td>RT @Private34349909: @AmyMek @Dab7One 1/ @real...</td>\n",
       "      <td>NaN</td>\n",
       "      <td>False</td>\n",
       "      <td>{\"id\":8.009259051368776e+17,\"id_str\":\"80092590...</td>\n",
       "      <td>NaN</td>\n",
       "    </tr>\n",
       "    <tr>\n",
       "      <td>1</td>\n",
       "      <td>ObjectId(59dbede4e6e465a2d67a106c)</td>\n",
       "      <td>NaN</td>\n",
       "      <td>NaN</td>\n",
       "      <td>Sun Oct 22 10:13:40 +0000 2017</td>\n",
       "      <td>{\"hashtags\":[{\"text\":\"muslim\",\"indices\":[16,23...</td>\n",
       "      <td>NaN</td>\n",
       "      <td>0</td>\n",
       "      <td>False</td>\n",
       "      <td>NaN</td>\n",
       "      <td>9.220433e+17</td>\n",
       "      <td>...</td>\n",
       "      <td>NaN</td>\n",
       "      <td>10</td>\n",
       "      <td>False</td>\n",
       "      <td>{\"created_at\":\"Sat Oct 21 18:37:07 +0000 2017\"...</td>\n",
       "      <td>&lt;a href=\"http://twitter.com/download/android\" ...</td>\n",
       "      <td>RT @ensine: All #muslim rulers were savages bc...</td>\n",
       "      <td>NaN</td>\n",
       "      <td>False</td>\n",
       "      <td>{\"id\":375089876,\"id_str\":\"375089876\",\"name\":\"द...</td>\n",
       "      <td>NaN</td>\n",
       "    </tr>\n",
       "    <tr>\n",
       "      <td>2</td>\n",
       "      <td>ObjectId(59dbf266e6e465a2d67a4810)</td>\n",
       "      <td>NaN</td>\n",
       "      <td>NaN</td>\n",
       "      <td>Sun Oct 22 07:50:47 +0000 2017</td>\n",
       "      <td>{\"hashtags\":[{\"text\":\"Raqqa\",\"indices\":[37,43]...</td>\n",
       "      <td>NaN</td>\n",
       "      <td>0</td>\n",
       "      <td>False</td>\n",
       "      <td>NaN</td>\n",
       "      <td>9.220073e+17</td>\n",
       "      <td>...</td>\n",
       "      <td>NaN</td>\n",
       "      <td>172</td>\n",
       "      <td>False</td>\n",
       "      <td>{\"created_at\":\"Fri Oct 20 23:15:45 +0000 2017\"...</td>\n",
       "      <td>&lt;a href=\"http://twitter.com/download/android\" ...</td>\n",
       "      <td>RT @SLandinSoCal: Liberated Women of #Raqqa‼️R...</td>\n",
       "      <td>NaN</td>\n",
       "      <td>False</td>\n",
       "      <td>{\"id\":7.092975641898926e+17,\"id_str\":\"70929756...</td>\n",
       "      <td>NaN</td>\n",
       "    </tr>\n",
       "    <tr>\n",
       "      <td>3</td>\n",
       "      <td>ObjectId(59dbf266e6e465a2d67a4828)</td>\n",
       "      <td>NaN</td>\n",
       "      <td>NaN</td>\n",
       "      <td>Sun Oct 22 10:38:23 +0000 2017</td>\n",
       "      <td>{\"hashtags\":[],\"symbols\":[],\"user_mentions\":[{...</td>\n",
       "      <td>NaN</td>\n",
       "      <td>0</td>\n",
       "      <td>False</td>\n",
       "      <td>NaN</td>\n",
       "      <td>9.220495e+17</td>\n",
       "      <td>...</td>\n",
       "      <td>NaN</td>\n",
       "      <td>1</td>\n",
       "      <td>False</td>\n",
       "      <td>NaN</td>\n",
       "      <td>&lt;a href=\"http://twitter.com\" rel=\"nofollow\"&gt;Tw...</td>\n",
       "      <td>@Stormtroepen @cdavandaag @sybrandbuma @gertja...</td>\n",
       "      <td>NaN</td>\n",
       "      <td>True</td>\n",
       "      <td>{\"id\":1340408646,\"id_str\":\"1340408646\",\"name\":...</td>\n",
       "      <td>NaN</td>\n",
       "    </tr>\n",
       "    <tr>\n",
       "      <td>4</td>\n",
       "      <td>ObjectId(59e8e630e6e465a2d6238c9c)</td>\n",
       "      <td>NaN</td>\n",
       "      <td>NaN</td>\n",
       "      <td>Sun Oct 22 08:59:53 +0000 2017</td>\n",
       "      <td>{\"hashtags\":[{\"text\":\"RT\",\"indices\":[51,54]},{...</td>\n",
       "      <td>NaN</td>\n",
       "      <td>0</td>\n",
       "      <td>False</td>\n",
       "      <td>NaN</td>\n",
       "      <td>9.220247e+17</td>\n",
       "      <td>...</td>\n",
       "      <td>NaN</td>\n",
       "      <td>25</td>\n",
       "      <td>False</td>\n",
       "      <td>{\"created_at\":\"Sun Oct 22 01:40:55 +0000 2017\"...</td>\n",
       "      <td>&lt;a href=\"http://twitter.com/download/android\" ...</td>\n",
       "      <td>RT @PoliticalIslam: Sharia at odds with Articl...</td>\n",
       "      <td>NaN</td>\n",
       "      <td>False</td>\n",
       "      <td>{\"id\":150595824,\"id_str\":\"150595824\",\"name\":\"🇮...</td>\n",
       "      <td>[\"DE\"]</td>\n",
       "    </tr>\n",
       "  </tbody>\n",
       "</table>\n",
       "<p>5 rows × 33 columns</p>\n",
       "</div>"
      ],
      "text/plain": [
       "                                  _id  contributors coordinates  \\\n",
       "0  ObjectId(59dbede4e6e465a2d67a1062)           NaN         NaN   \n",
       "1  ObjectId(59dbede4e6e465a2d67a106c)           NaN         NaN   \n",
       "2  ObjectId(59dbf266e6e465a2d67a4810)           NaN         NaN   \n",
       "3  ObjectId(59dbf266e6e465a2d67a4828)           NaN         NaN   \n",
       "4  ObjectId(59e8e630e6e465a2d6238c9c)           NaN         NaN   \n",
       "\n",
       "                       created_at  \\\n",
       "0  Sun Oct 22 10:34:06 +0000 2017   \n",
       "1  Sun Oct 22 10:13:40 +0000 2017   \n",
       "2  Sun Oct 22 07:50:47 +0000 2017   \n",
       "3  Sun Oct 22 10:38:23 +0000 2017   \n",
       "4  Sun Oct 22 08:59:53 +0000 2017   \n",
       "\n",
       "                                            entities extended_entities  \\\n",
       "0  {\"hashtags\":[{\"text\":\"BanIslam\",\"indices\":[93,...               NaN   \n",
       "1  {\"hashtags\":[{\"text\":\"muslim\",\"indices\":[16,23...               NaN   \n",
       "2  {\"hashtags\":[{\"text\":\"Raqqa\",\"indices\":[37,43]...               NaN   \n",
       "3  {\"hashtags\":[],\"symbols\":[],\"user_mentions\":[{...               NaN   \n",
       "4  {\"hashtags\":[{\"text\":\"RT\",\"indices\":[51,54]},{...               NaN   \n",
       "\n",
       "   favorite_count  favorited  geo            id  ...  quoted_status_id_str  \\\n",
       "0               0      False  NaN  9.220484e+17  ...                   NaN   \n",
       "1               0      False  NaN  9.220433e+17  ...                   NaN   \n",
       "2               0      False  NaN  9.220073e+17  ...                   NaN   \n",
       "3               0      False  NaN  9.220495e+17  ...                   NaN   \n",
       "4               0      False  NaN  9.220247e+17  ...                   NaN   \n",
       "\n",
       "  retweet_count  retweeted                                   retweeted_status  \\\n",
       "0             4      False  {\"created_at\":\"Fri Oct 20 09:33:45 +0000 2017\"...   \n",
       "1            10      False  {\"created_at\":\"Sat Oct 21 18:37:07 +0000 2017\"...   \n",
       "2           172      False  {\"created_at\":\"Fri Oct 20 23:15:45 +0000 2017\"...   \n",
       "3             1      False                                                NaN   \n",
       "4            25      False  {\"created_at\":\"Sun Oct 22 01:40:55 +0000 2017\"...   \n",
       "\n",
       "                                              source  \\\n",
       "0  <a href=\"http://twitter.com/download/iphone\" r...   \n",
       "1  <a href=\"http://twitter.com/download/android\" ...   \n",
       "2  <a href=\"http://twitter.com/download/android\" ...   \n",
       "3  <a href=\"http://twitter.com\" rel=\"nofollow\">Tw...   \n",
       "4  <a href=\"http://twitter.com/download/android\" ...   \n",
       "\n",
       "                                                text  full_text truncated  \\\n",
       "0  RT @Private34349909: @AmyMek @Dab7One 1/ @real...        NaN     False   \n",
       "1  RT @ensine: All #muslim rulers were savages bc...        NaN     False   \n",
       "2  RT @SLandinSoCal: Liberated Women of #Raqqa‼️R...        NaN     False   \n",
       "3  @Stormtroepen @cdavandaag @sybrandbuma @gertja...        NaN      True   \n",
       "4  RT @PoliticalIslam: Sharia at odds with Articl...        NaN     False   \n",
       "\n",
       "                                                user withheld_in_countries  \n",
       "0  {\"id\":8.009259051368776e+17,\"id_str\":\"80092590...                   NaN  \n",
       "1  {\"id\":375089876,\"id_str\":\"375089876\",\"name\":\"द...                   NaN  \n",
       "2  {\"id\":7.092975641898926e+17,\"id_str\":\"70929756...                   NaN  \n",
       "3  {\"id\":1340408646,\"id_str\":\"1340408646\",\"name\":...                   NaN  \n",
       "4  {\"id\":150595824,\"id_str\":\"150595824\",\"name\":\"🇮...                [\"DE\"]  \n",
       "\n",
       "[5 rows x 33 columns]"
      ]
     },
     "execution_count": 5,
     "metadata": {},
     "output_type": "execute_result"
    }
   ],
   "source": [
    "df.head()"
   ]
  },
  {
   "cell_type": "code",
   "execution_count": 8,
   "metadata": {},
   "outputs": [
    {
     "name": "stdout",
     "output_type": "stream",
     "text": [
      "_id                           object\n",
      "contributors                 float64\n",
      "coordinates                   object\n",
      "created_at                    object\n",
      "entities                      object\n",
      "extended_entities             object\n",
      "favorite_count                 int64\n",
      "favorited                       bool\n",
      "geo                           object\n",
      "id                           float64\n",
      "id_str                         int64\n",
      "in_reply_to_screen_name       object\n",
      "in_reply_to_status_id        float64\n",
      "in_reply_to_status_id_str    float64\n",
      "in_reply_to_user_id          float64\n",
      "in_reply_to_user_id_str      float64\n",
      "is_quote_status                 bool\n",
      "lang                          object\n",
      "metadata                      object\n",
      "place                         object\n",
      "possibly_sensitive            object\n",
      "quoted_status                 object\n",
      "quoted_status_id             float64\n",
      "quoted_status_id_str         float64\n",
      "retweet_count                  int64\n",
      "retweeted                       bool\n",
      "retweeted_status              object\n",
      "source                        object\n",
      "text                          object\n",
      "full_text                    float64\n",
      "truncated                       bool\n",
      "user                          object\n",
      "withheld_in_countries         object\n",
      "dtype: object\n"
     ]
    }
   ],
   "source": [
    "print(df.dtypes)"
   ]
  },
  {
   "cell_type": "code",
   "execution_count": 10,
   "metadata": {},
   "outputs": [],
   "source": [
    "df.drop(columns=['coordinates', 'geo', 'contributors'], inplace=True)"
   ]
  },
  {
   "cell_type": "code",
   "execution_count": 87,
   "metadata": {},
   "outputs": [
    {
     "name": "stdout",
     "output_type": "stream",
     "text": [
      "94       {\"id\":\"1d68da80ca90416d\",\"url\":\"https://api.tw...\n",
      "206      {\"id\":\"53cef5332ac9d7d0\",\"url\":\"https://api.tw...\n",
      "638      {\"id\":\"f632697d33274211\",\"url\":\"https://api.tw...\n",
      "642      {\"id\":\"5635c19c2b5078d1\",\"url\":\"https://api.tw...\n",
      "997      {\"id\":\"a81f9ed24c15d6af\",\"url\":\"https://api.tw...\n",
      "                               ...                        \n",
      "48145    {\"id\":\"74effb34539b2d64\",\"url\":\"https://api.tw...\n",
      "48146    {\"id\":\"74effb34539b2d64\",\"url\":\"https://api.tw...\n",
      "48343    {\"id\":\"01693a337224bad0\",\"url\":\"https://api.tw...\n",
      "49347    {\"id\":\"07d9e3eb0a486002\",\"url\":\"https://api.tw...\n",
      "50162    {\"id\":\"019f39d424818f2b\",\"url\":\"https://api.tw...\n",
      "Name: place, Length: 251, dtype: object\n"
     ]
    }
   ],
   "source": [
    "place_df = df[df[\"place\"].notna()].astype('str')\n",
    "place_df = place_df[\"place\"]\n",
    "print(place_df)"
   ]
  },
  {
   "cell_type": "code",
   "execution_count": 88,
   "metadata": {},
   "outputs": [
    {
     "name": "stdout",
     "output_type": "stream",
     "text": [
      "     index                                              place\n",
      "0       94  {'id': '1d68da80ca90416d', 'url': 'https://api...\n",
      "1      206  {'id': '53cef5332ac9d7d0', 'url': 'https://api...\n",
      "2      638  {'id': 'f632697d33274211', 'url': 'https://api...\n",
      "3      642  {'id': '5635c19c2b5078d1', 'url': 'https://api...\n",
      "4      997  {'id': 'a81f9ed24c15d6af', 'url': 'https://api...\n",
      "..     ...                                                ...\n",
      "246  48145  {'id': '74effb34539b2d64', 'url': 'https://api...\n",
      "247  48146  {'id': '74effb34539b2d64', 'url': 'https://api...\n",
      "248  48343  {'id': '01693a337224bad0', 'url': 'https://api...\n",
      "249  49347  {'id': '07d9e3eb0a486002', 'url': 'https://api...\n",
      "250  50162  {'id': '019f39d424818f2b', 'url': 'https://api...\n",
      "\n",
      "[251 rows x 2 columns]\n"
     ]
    }
   ],
   "source": [
    "places = place_df.apply(json.loads)\n",
    "print(places.reset_index())"
   ]
  },
  {
   "cell_type": "code",
   "execution_count": 92,
   "metadata": {},
   "outputs": [
    {
     "name": "stdout",
     "output_type": "stream",
     "text": [
      "object\n"
     ]
    }
   ],
   "source": [
    "print(places.dtypes)\n",
    "places_list = places.to_json(orient='index')"
   ]
  },
  {
   "cell_type": "code",
   "execution_count": 94,
   "metadata": {},
   "outputs": [
    {
     "name": "stdout",
     "output_type": "stream",
     "text": [
      "{\n"
     ]
    }
   ],
   "source": [
    "print(places_list[0])"
   ]
  },
  {
   "cell_type": "code",
   "execution_count": null,
   "metadata": {},
   "outputs": [],
   "source": []
  }
 ],
 "metadata": {
  "kernelspec": {
   "display_name": "Python 3",
   "language": "python",
   "name": "python3"
  },
  "language_info": {
   "codemirror_mode": {
    "name": "ipython",
    "version": 3
   },
   "file_extension": ".py",
   "mimetype": "text/x-python",
   "name": "python",
   "nbconvert_exporter": "python",
   "pygments_lexer": "ipython3",
   "version": "3.7.4"
  }
 },
 "nbformat": 4,
 "nbformat_minor": 2
}
